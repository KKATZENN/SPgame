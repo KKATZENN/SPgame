{
 "cells": [
  {
   "cell_type": "markdown",
   "metadata": {},
   "source": [
    "## Flowchart to our game\n",
    "\n",
    "![Flow chart](/images/flowchartCSSE.png)\n",
    "\n",
    "These are our plans for our game"
   ]
  },
  {
   "cell_type": "markdown",
   "metadata": {},
   "source": [
    "## Plans for levels\n",
    "\n",
    "The first level of our game will be a grassland, where the player(Rachit) must catch all of the students in team Rachit\n",
    "\n",
    "The second level will"
   ]
  },
  {
   "cell_type": "raw",
   "metadata": {
    "vscode": {
     "languageId": "raw"
    }
   },
   "source": []
  }
 ],
 "metadata": {
  "language_info": {
   "name": "python"
  }
 },
 "nbformat": 4,
 "nbformat_minor": 2
}
