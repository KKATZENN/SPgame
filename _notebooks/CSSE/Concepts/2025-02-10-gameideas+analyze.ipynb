{
 "cells": [
  {
   "cell_type": "markdown",
   "metadata": {},
   "source": [
    "## Flowchart to our game\n",
    "\n",
    "![Flow chart](/images/flowchartCSSE.png)\n",
    "\n",
    "These are our plans for our game"
   ]
  },
  {
   "cell_type": "markdown",
   "metadata": {},
   "source": [
    "## Plans for levels\n",
    "\n",
    "The general format of our levels will be where the play(Rachit) has to capture all of team Rachit, but in diffrent enviroments. There will be NPCs that the player must collide with to capture them. However, the NPCs will only have collision box on certain parts of them, so the player has to figure out where that collision box is.\n",
    "\n",
    "The first level of our game will be a grassland, and there will be npc\n",
    "\n",
    "The second level will"
   ]
  },
  {
   "cell_type": "raw",
   "metadata": {
    "vscode": {
     "languageId": "raw"
    }
   },
   "source": []
  }
 ],
 "metadata": {
  "language_info": {
   "name": "python"
  }
 },
 "nbformat": 4,
 "nbformat_minor": 2
}
