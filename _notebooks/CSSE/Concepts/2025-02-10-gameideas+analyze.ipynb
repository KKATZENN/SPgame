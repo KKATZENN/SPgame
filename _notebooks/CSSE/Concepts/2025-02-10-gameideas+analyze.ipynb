{
 "cells": [
  {
   "cell_type": "markdown",
   "metadata": {},
   "source": [
    "## Flowchart to our game\n",
    "\n",
    "![Flow chart](/images/flowchartCSSE.png)\n",
    "\n",
    "These are our plans for our game"
   ]
  },
  {
   "cell_type": "markdown",
   "metadata": {},
   "source": [
    "## Plans for levels\n",
    "\n",
    "The general format of our levels will be where the play(Rachit) has to capture all of team Rachit, but in diffrent enviroments. There will be NPCs that the player must collide with to capture them. However, the NPCs will only have collision box on certain parts of them, so the player has to figure out where that collision box is. Once the met NPCs equals the # of npcs on the map, the game will prompt the player to advance to the next level.\n",
    "\n",
    "The first level of our game will be a grassland, and there will be 4-6 npcs sccatered around the map.\n",
    "\n",
    "The second level will be a"
   ]
  },
  {
   "cell_type": "markdown",
   "metadata": {},
   "source": [
    "## General NPC Mechanics\n",
    "\n",
    "Other than the npcs you must capture, "
   ]
  }
 ],
 "metadata": {
  "language_info": {
   "name": "python"
  }
 },
 "nbformat": 4,
 "nbformat_minor": 2
}
